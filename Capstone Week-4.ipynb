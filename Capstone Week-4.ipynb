{
    "cells": [
        {
            "metadata": {
                "collapsed": true
            },
            "cell_type": "markdown",
            "source": "# Segmenting and Clustering Neighborhoods in Fredericton, NB\nApplied Data Science Capstone Week 4 Peer-Graded Assignment"
        },
        {
            "metadata": {},
            "cell_type": "code",
            "source": "from PIL import Image\nimport requests\nurl = 'http://www.tourismfredericton.ca/sites/default/files/field/image/fredericton.jpg'\nim = Image.open(requests.get(url, stream=True).raw)\nim",
            "execution_count": null,
            "outputs": []
        },
        {
            "metadata": {},
            "cell_type": "markdown",
            "source": "# Introduction to the opportunity\nFredericton is the Capital City of the only Canadian bilingual Province of New Brunswick and is beautifully located on the banks of the Saint John River. While one of the least populated provincial capital cities with a population base of less than 60 thousand residents, it offers a wide spectrum of venues and is a governement, university and cultural hub.\n\nAs the city grows and develops, it becomes increasingly important to examine and understand it quantitiatively. The City of Fredericton provides open data for everyone and encourages entrepreneurial use to develop services for the benefit of its ciitzens.\n\nDevelopers, policy makers and/or city planners have an interest in answering the following questions:\n    \n    1.  What neighbourhoods have the highest crime?\n    2. Is population density correlated to crime level?\n    3. Using Foursquare data, what venues are most common in different locations within the city?\n    4. Does the Knowledge Park really need a coffee shop?"
        },
        {
            "metadata": {},
            "cell_type": "markdown",
            "source": "# Data\nTo understand and explore we will need the following City of Fredericton Open Data:\n1. Open Data Site: http://data-fredericton.opendata.arcgis.com/\n2. Fredericton Neighbourhoods: http://data-fredericton.opendata.arcgis.com/datasets/neighbourhoods--quartiers\n3. Fredericton Crime by Neighbourhood: http://data-fredericton.opendata.arcgis.com/datasets/crime-by-neighbourhood-2017--crime-par-quartier-2017\n4. Fredericton Census Tract Demographics: http://data-fredericton.opendata.arcgis.com/datasets/census-tract-demographics--donn%C3%A9es-d%C3%A9mographiques-du-secteur-de-recensement\n5. Fredericton locations of interest: https://github.com/JasonLUrquhart/Applied-Data-Science-Capstone/blob/master/Fredericton%20Locations.xlsx\n6. Foursquare Developers Access to venue data: https://foursquare.com/\nUsing this data will allow exploration and examination to answer the questions. The neighbourhood data will enable us to properly group crime by neighbourhood. The Census data will enable us to then compare the population density to examine if areas of highest crime are also most densely populated. Fredericton locations of interest will then allow us to cluster and quantitatively understand the venues most common to that location.\n\nThis is going to be interesting..."
        },
        {
            "metadata": {},
            "cell_type": "code",
            "source": "",
            "execution_count": null,
            "outputs": []
        }
    ],
    "metadata": {
        "kernelspec": {
            "name": "python3",
            "display_name": "Python 3.6",
            "language": "python"
        },
        "language_info": {
            "name": "python",
            "version": "3.6.9",
            "mimetype": "text/x-python",
            "codemirror_mode": {
                "name": "ipython",
                "version": 3
            },
            "pygments_lexer": "ipython3",
            "nbconvert_exporter": "python",
            "file_extension": ".py"
        }
    },
    "nbformat": 4,
    "nbformat_minor": 1
}